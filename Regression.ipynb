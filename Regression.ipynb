{
 "cells": [
  {
   "cell_type": "code",
   "execution_count": 30,
   "metadata": {},
   "outputs": [
    {
     "name": "stdout",
     "output_type": "stream",
     "text": [
      "LinearRegression(copy_X=True, fit_intercept=True, n_jobs=None, normalize=False)\n",
      "Coefficients: \n",
      " [938.23786125]\n",
      "Mean squared error: 2548.07\n",
      "Variance score: 0.47 \n",
      "\n",
      "Ridge(alpha=1.0, copy_X=True, fit_intercept=True, max_iter=None,\n",
      "      normalize=False, random_state=None, solver='auto', tol=0.001)\n",
      "Coefficients: \n",
      " [458.48859467]\n",
      "Mean squared error: 3604.27\n",
      "Variance score: 0.25 \n",
      "\n",
      "Lasso(alpha=1.0, copy_X=True, fit_intercept=True, max_iter=1000,\n",
      "      normalize=False, positive=False, precompute=False, random_state=None,\n",
      "      selection='cyclic', tol=0.0001, warm_start=False)\n",
      "Coefficients: \n",
      " [496.66920971]\n",
      "Mean squared error: 3482.77\n",
      "Variance score: 0.28 \n",
      "\n"
     ]
    },
    {
     "data": {
      "image/png": "[encoded data removed]",
      "text/plain": [
       "<Figure size 720x576 with 1 Axes>"
      ]
     },
     "metadata": {},
     "output_type": "display_data"
    }
   ],
   "source": [
    "\n",
    "import matplotlib.pyplot as plt\n",
    "import numpy as np\n",
    "from sklearn import datasets, linear_model\n",
    "from sklearn.metrics import mean_squared_error, r2_score\n",
    "\n",
    "diabetes = datasets.load_diabetes()\n",
    "\n",
    "\n",
    "# Use only one feature\n",
    "diabetes_X = diabetes.data[:, np.newaxis, 2]\n",
    "\n",
    "# Split the data into training/testing sets\n",
    "diabetes_X_train = diabetes_X[:-20]\n",
    "diabetes_X_test = diabetes_X[-20:]\n",
    "\n",
    "# Create linear regression object\n",
    "\n",
    "regr1 = linear_model.LinearRegression()\n",
    "regr1.fit(diabetes_X_train, diabetes_y_train)\n",
    "\n",
    "regr2 = linear_model.Ridge()\n",
    "regr2.fit(diabetes_X_train, diabetes_y_train)\n",
    "\n",
    "regr3 = linear_model.Lasso()\n",
    "regr3.fit(diabetes_X_train, diabetes_y_train)\n",
    "plt.subplots( figsize=(10, 8))\n",
    "\n",
    "\n",
    "for  regr,col in zip([regr1, regr2, regr3 ],['b', 'g','r']):\n",
    "    \n",
    "    # Make predictions using the testing set\n",
    "    diabetes_y_pred = regr.predict(diabetes_X_test)\n",
    "\n",
    "    print(regr)\n",
    "    # The coefficients\n",
    "    print('Coefficients: \\n', regr.coef_)\n",
    "    # The mean squared error\n",
    "    print(\"Mean squared error: %.2f\"\n",
    "          % mean_squared_error(diabetes_y_test, diabetes_y_pred))\n",
    "    # Explained variance score: 1 is perfect prediction\n",
    "    print('Variance score: %.2f \\n' % r2_score(diabetes_y_test, diabetes_y_pred))\n",
    "\n",
    "    # Plot outputs\n",
    "    \n",
    "    plt.scatter(diabetes_X_test, diabetes_y_test , color='black')\n",
    "    plt.plot(diabetes_X_test, diabetes_y_pred, color=col, linewidth=1)\n",
    "   # plt.plot(diabetes_X_test, diabetes_y_pred, color=col,  label='Ridger')\n",
    "    #plt.plot(diabetes_X_test, diabetes_y_pred, color=col, label='Lasso')\n",
    "    plt.xticks(())\n",
    "    plt.yticks(())\n",
    "    plt.legend(('Linear regression', 'Ridge','Lasso'), loc='upper left')\n",
    "\n",
    "plt.show()\n"
   ]
  },
  {
   "cell_type": "code",
   "execution_count": null,
   "metadata": {},
   "outputs": [],
   "source": []
  },
  {
   "cell_type": "code",
   "execution_count": null,
   "metadata": {},
   "outputs": [],
   "source": []
  }
 ],
 "metadata": {
  "kernelspec": {
   "display_name": "Python 3",
   "language": "python",
   "name": "python3"
  },
  "language_info": {
   "codemirror_mode": {
    "name": "ipython",
    "version": 3
   },
   "file_extension": ".py",
   "mimetype": "text/x-python",
   "name": "python",
   "nbconvert_exporter": "python",
   "pygments_lexer": "ipython3",
   "version": "3.7.4"
  }
 },
 "nbformat": 4,
 "nbformat_minor": 2
}
